{
 "cells": [
  {
   "cell_type": "markdown",
   "metadata": {},
   "source": [
    "# Ramen Dataset Rapid EDA\n",
    "#### Data Science Live's first rapid EDA\n",
    "\n",
    "This Jupyter Notebook is the first in a series of rapid exploratory data analyses, where my cohort and I were given an hour to explore and make observations about a dataset. This notebook has been cleaned and touched up to show as a portfolio piece."
   ]
  },
  {
   "cell_type": "code",
   "execution_count": 140,
   "metadata": {},
   "outputs": [],
   "source": [
    "# Import libraries\n",
    "import pandas as pd\n",
    "import numpy as np\n",
    "import matplotlib.pyplot as plt\n",
    "import seaborn as sns\n",
    "\n",
    "sns.set_style('darkgrid')\n",
    "plt.rcParams['font.size'] = 14\n",
    "\n",
    "# Import dataset\n",
    "ramen = pd.read_csv('data/ramen-ratings.csv')"
   ]
  },
  {
   "cell_type": "code",
   "execution_count": 141,
   "metadata": {},
   "outputs": [
    {
     "data": {
      "text/html": [
       "<div>\n",
       "<style scoped>\n",
       "    .dataframe tbody tr th:only-of-type {\n",
       "        vertical-align: middle;\n",
       "    }\n",
       "\n",
       "    .dataframe tbody tr th {\n",
       "        vertical-align: top;\n",
       "    }\n",
       "\n",
       "    .dataframe thead th {\n",
       "        text-align: right;\n",
       "    }\n",
       "</style>\n",
       "<table border=\"1\" class=\"dataframe\">\n",
       "  <thead>\n",
       "    <tr style=\"text-align: right;\">\n",
       "      <th></th>\n",
       "      <th>Review #</th>\n",
       "      <th>Brand</th>\n",
       "      <th>Variety</th>\n",
       "      <th>Style</th>\n",
       "      <th>Country</th>\n",
       "      <th>Stars</th>\n",
       "      <th>Top Ten</th>\n",
       "    </tr>\n",
       "  </thead>\n",
       "  <tbody>\n",
       "    <tr>\n",
       "      <th>0</th>\n",
       "      <td>2580</td>\n",
       "      <td>New Touch</td>\n",
       "      <td>T's Restaurant Tantanmen</td>\n",
       "      <td>Cup</td>\n",
       "      <td>Japan</td>\n",
       "      <td>3.75</td>\n",
       "      <td>NaN</td>\n",
       "    </tr>\n",
       "    <tr>\n",
       "      <th>1</th>\n",
       "      <td>2579</td>\n",
       "      <td>Just Way</td>\n",
       "      <td>Noodles Spicy Hot Sesame Spicy Hot Sesame Guan...</td>\n",
       "      <td>Pack</td>\n",
       "      <td>Taiwan</td>\n",
       "      <td>1</td>\n",
       "      <td>NaN</td>\n",
       "    </tr>\n",
       "    <tr>\n",
       "      <th>2</th>\n",
       "      <td>2578</td>\n",
       "      <td>Nissin</td>\n",
       "      <td>Cup Noodles Chicken Vegetable</td>\n",
       "      <td>Cup</td>\n",
       "      <td>USA</td>\n",
       "      <td>2.25</td>\n",
       "      <td>NaN</td>\n",
       "    </tr>\n",
       "    <tr>\n",
       "      <th>3</th>\n",
       "      <td>2577</td>\n",
       "      <td>Wei Lih</td>\n",
       "      <td>GGE Ramen Snack Tomato Flavor</td>\n",
       "      <td>Pack</td>\n",
       "      <td>Taiwan</td>\n",
       "      <td>2.75</td>\n",
       "      <td>NaN</td>\n",
       "    </tr>\n",
       "    <tr>\n",
       "      <th>4</th>\n",
       "      <td>2576</td>\n",
       "      <td>Ching's Secret</td>\n",
       "      <td>Singapore Curry</td>\n",
       "      <td>Pack</td>\n",
       "      <td>India</td>\n",
       "      <td>3.75</td>\n",
       "      <td>NaN</td>\n",
       "    </tr>\n",
       "  </tbody>\n",
       "</table>\n",
       "</div>"
      ],
      "text/plain": [
       "   Review #           Brand  \\\n",
       "0      2580       New Touch   \n",
       "1      2579        Just Way   \n",
       "2      2578          Nissin   \n",
       "3      2577         Wei Lih   \n",
       "4      2576  Ching's Secret   \n",
       "\n",
       "                                             Variety Style Country Stars  \\\n",
       "0                          T's Restaurant Tantanmen    Cup   Japan  3.75   \n",
       "1  Noodles Spicy Hot Sesame Spicy Hot Sesame Guan...  Pack  Taiwan     1   \n",
       "2                      Cup Noodles Chicken Vegetable   Cup     USA  2.25   \n",
       "3                      GGE Ramen Snack Tomato Flavor  Pack  Taiwan  2.75   \n",
       "4                                    Singapore Curry  Pack   India  3.75   \n",
       "\n",
       "  Top Ten  \n",
       "0     NaN  \n",
       "1     NaN  \n",
       "2     NaN  \n",
       "3     NaN  \n",
       "4     NaN  "
      ]
     },
     "execution_count": 141,
     "metadata": {},
     "output_type": "execute_result"
    }
   ],
   "source": [
    "# Look at the data and summary statistics\n",
    "ramen.head()"
   ]
  },
  {
   "cell_type": "code",
   "execution_count": 142,
   "metadata": {},
   "outputs": [
    {
     "name": "stdout",
     "output_type": "stream",
     "text": [
      "<class 'pandas.core.frame.DataFrame'>\n",
      "RangeIndex: 2580 entries, 0 to 2579\n",
      "Data columns (total 7 columns):\n",
      " #   Column    Non-Null Count  Dtype \n",
      "---  ------    --------------  ----- \n",
      " 0   Review #  2580 non-null   int64 \n",
      " 1   Brand     2580 non-null   object\n",
      " 2   Variety   2580 non-null   object\n",
      " 3   Style     2578 non-null   object\n",
      " 4   Country   2580 non-null   object\n",
      " 5   Stars     2580 non-null   object\n",
      " 6   Top Ten   41 non-null     object\n",
      "dtypes: int64(1), object(6)\n",
      "memory usage: 141.2+ KB\n"
     ]
    }
   ],
   "source": [
    "# Look at null value and data type information\n",
    "ramen.info()"
   ]
  },
  {
   "cell_type": "code",
   "execution_count": 143,
   "metadata": {},
   "outputs": [
    {
     "name": "stdout",
     "output_type": "stream",
     "text": [
      "          Review #\n",
      "count  2580.000000\n",
      "mean   1290.500000\n",
      "std     744.926171\n",
      "min       1.000000\n",
      "25%     645.750000\n",
      "50%    1290.500000\n",
      "75%    1935.250000\n",
      "max    2580.000000\n",
      "         Brand  Variety Style Country Stars Top Ten\n",
      "count     2580     2580  2578    2580  2580      41\n",
      "unique     355     2413     7      38    51      38\n",
      "top     Nissin  Chicken  Pack   Japan     4      \\n\n",
      "freq       381        7  1531     352   384       4\n"
     ]
    }
   ],
   "source": [
    "# Look at summary statistics for numerical and categorical columns\n",
    "print(ramen.describe())\n",
    "print(ramen.describe(include='O'))"
   ]
  },
  {
   "cell_type": "code",
   "execution_count": 144,
   "metadata": {},
   "outputs": [
    {
     "data": {
      "text/plain": [
       "array(['Cup', 'Pack', 'Tray', 'Bowl', 'Box', 'Can', 'Bar', nan],\n",
       "      dtype=object)"
      ]
     },
     "execution_count": 144,
     "metadata": {},
     "output_type": "execute_result"
    }
   ],
   "source": [
    "# Explore style column\n",
    "ramen['Style'].unique()"
   ]
  },
  {
   "cell_type": "code",
   "execution_count": 145,
   "metadata": {},
   "outputs": [
    {
     "name": "stdout",
     "output_type": "stream",
     "text": [
      "      Review #   Brand            Variety Style Country Stars Top Ten\n",
      "2152       428  Kamfen     E Menm Chicken   NaN   China  3.75     NaN\n",
      "2442       138    Unif  100 Furong Shrimp   NaN  Taiwan     3     NaN\n"
     ]
    }
   ],
   "source": [
    "# View the rows that have null values\n",
    "null_styles = ramen[ramen['Style'].isna()]\n",
    "print(null_styles)"
   ]
  },
  {
   "cell_type": "markdown",
   "metadata": {},
   "source": [
    "There are two null values in the style column. For the purpose of this rapid EDA and considering it's only two rows, these will be dropped."
   ]
  },
  {
   "cell_type": "code",
   "execution_count": 146,
   "metadata": {},
   "outputs": [
    {
     "name": "stdout",
     "output_type": "stream",
     "text": [
      "(2578, 7)\n"
     ]
    }
   ],
   "source": [
    "ramen_clean = ramen.dropna(subset=['Style'])\n",
    "print(ramen_clean.shape)"
   ]
  },
  {
   "cell_type": "code",
   "execution_count": 147,
   "metadata": {},
   "outputs": [
    {
     "data": {
      "text/plain": [
       "Review #       0\n",
       "Brand          0\n",
       "Variety        0\n",
       "Style          0\n",
       "Country        0\n",
       "Stars          0\n",
       "Top Ten     2537\n",
       "dtype: int64"
      ]
     },
     "execution_count": 147,
     "metadata": {},
     "output_type": "execute_result"
    }
   ],
   "source": [
    "# Check to see if nulls have been dropped\n",
    "ramen_clean.isna().sum()"
   ]
  },
  {
   "cell_type": "code",
   "execution_count": 148,
   "metadata": {},
   "outputs": [
    {
     "data": {
      "text/plain": [
       "array([nan, '2016 #10', '2016 #1', '2016 #8', '2016 #5', '2016 #9',\n",
       "       '2016 #7', '2015 #10', '2015 #7', '2015 #4', '2015 #9', '2015 #6',\n",
       "       '2015 #1', '2013 #10', '2015 #8', '2014 #7', '2014 #4', '2014 #9',\n",
       "       '2014 #10', '2014 #8', '2014 #5', '2014 #6', '2014 #1', '2013 #1',\n",
       "       '2013 #2', '2013 #4', '\\n', '2013 #9', '2013 #3', '2012 #10',\n",
       "       '2012 #7', '2012 #5', '2012 #3', '2012 #6', '2012 #9', '2012 #1',\n",
       "       '2012 #2', '2013 #6', '2012 #4'], dtype=object)"
      ]
     },
     "execution_count": 148,
     "metadata": {},
     "output_type": "execute_result"
    }
   ],
   "source": [
    "# What is the Top Ten Column?\n",
    "ramen['Top Ten'].unique()"
   ]
  },
  {
   "cell_type": "markdown",
   "metadata": {},
   "source": [
    "#### Initial Observations\n",
    "- There's only one numerical column, and that is the review number\n",
    "- Other category descriptions:\n",
    "\n",
    "`Brand`: brand of ramen\n",
    "\n",
    "`Variety`: More or less the flavor of the ramen\n",
    "\n",
    "`Style`: How the ramen was packaged/served\n",
    "\n",
    "`Country`: Country of origin\n",
    "\n",
    "`Stars`: The actual rating of the review; for some reason it's a string.\n",
    "\n",
    "`Top Ten` : A string indicating whether the ramen was in a top ten rankings list of a given year, and what rank it was given"
   ]
  },
  {
   "cell_type": "code",
   "execution_count": 149,
   "metadata": {},
   "outputs": [
    {
     "name": "stdout",
     "output_type": "stream",
     "text": [
      "['3.75' '1' '2.25' '2.75' '4.75' '4' '0.25' '2.5' '5' '4.25' '4.5' '3.5'\n",
      " 'Unrated' '1.5' '3.25' '2' '0' '3' '0.5' '4.00' '5.0' '3.50' '3.8' '4.3'\n",
      " '2.3' '5.00' '3.3' '4.0' '3.00' '1.75' '3.0' '4.50' '0.75' '1.25' '1.1'\n",
      " '2.1' '0.9' '3.1' '4.125' '3.125' '2.125' '2.9' '0.1' '2.8' '3.7' '3.4'\n",
      " '3.6' '2.85' '3.2' '3.65' '1.8']\n"
     ]
    }
   ],
   "source": [
    "print(ramen_clean['Stars'].unique())"
   ]
  },
  {
   "cell_type": "code",
   "execution_count": 150,
   "metadata": {},
   "outputs": [
    {
     "name": "stdout",
     "output_type": "stream",
     "text": [
      "3\n"
     ]
    }
   ],
   "source": [
    "# Some of the ramen are unrated\n",
    "UNRATED_MASK = (ramen_clean['Stars'] == 'Unrated')\n",
    "print(len(ramen_clean[UNRATED_MASK]))"
   ]
  },
  {
   "cell_type": "code",
   "execution_count": 151,
   "metadata": {},
   "outputs": [
    {
     "data": {
      "text/plain": [
       "array(['3.75', '1', '2.25', '2.75', '4.75', '4', '0.25', '2.5', '5',\n",
       "       '4.25', '4.5', '3.5', '1.5', '3.25', '2', '0', '3', '0.5', '4.00',\n",
       "       '5.0', '3.50', '3.8', '4.3', '2.3', '5.00', '3.3', '4.0', '3.00',\n",
       "       '1.75', '3.0', '4.50', '0.75', '1.25', '1.1', '2.1', '0.9', '3.1',\n",
       "       '4.125', '3.125', '2.125', '2.9', '0.1', '2.8', '3.7', '3.4',\n",
       "       '3.6', '2.85', '3.2', '3.65', '1.8'], dtype=object)"
      ]
     },
     "execution_count": 151,
     "metadata": {},
     "output_type": "execute_result"
    }
   ],
   "source": [
    "# Since there are only three, these rows will be dropped as well\n",
    "ramen_clean = ramen_clean[~UNRATED_MASK]\n",
    "ramen_clean['Stars'].unique()"
   ]
  },
  {
   "cell_type": "code",
   "execution_count": 1,
   "metadata": {},
   "outputs": [
    {
     "ename": "NameError",
     "evalue": "name 'ramen_clean' is not defined",
     "output_type": "error",
     "traceback": [
      "\u001b[1;31m---------------------------------------------------------------------------\u001b[0m",
      "\u001b[1;31mNameError\u001b[0m                                 Traceback (most recent call last)",
      "\u001b[1;32m<ipython-input-1-c31f5a0479ae>\u001b[0m in \u001b[0;36m<module>\u001b[1;34m\u001b[0m\n\u001b[0;32m      1\u001b[0m \u001b[1;31m# Reassign the data type for Stars column to be float and round off to two decimal places\u001b[0m\u001b[1;33m\u001b[0m\u001b[1;33m\u001b[0m\u001b[1;33m\u001b[0m\u001b[0m\n\u001b[1;32m----> 2\u001b[1;33m \u001b[0mramen_clean\u001b[0m\u001b[1;33m[\u001b[0m\u001b[1;34m'Stars'\u001b[0m\u001b[1;33m]\u001b[0m \u001b[1;33m=\u001b[0m \u001b[0mramen_clean\u001b[0m\u001b[1;33m[\u001b[0m\u001b[1;34m'Stars'\u001b[0m\u001b[1;33m]\u001b[0m\u001b[1;33m.\u001b[0m\u001b[0mastype\u001b[0m\u001b[1;33m(\u001b[0m\u001b[0mfloat\u001b[0m\u001b[1;33m)\u001b[0m\u001b[1;33m\u001b[0m\u001b[1;33m\u001b[0m\u001b[0m\n\u001b[0m\u001b[0;32m      3\u001b[0m \u001b[0mramen_clean\u001b[0m\u001b[1;33m[\u001b[0m\u001b[1;34m'Stars'\u001b[0m\u001b[1;33m]\u001b[0m\u001b[1;33m.\u001b[0m\u001b[0mround\u001b[0m\u001b[1;33m(\u001b[0m\u001b[1;36m2\u001b[0m\u001b[1;33m)\u001b[0m\u001b[1;33m\u001b[0m\u001b[1;33m\u001b[0m\u001b[0m\n",
      "\u001b[1;31mNameError\u001b[0m: name 'ramen_clean' is not defined"
     ]
    }
   ],
   "source": [
    "# Reassign the data type for Stars column to be float and round off to two decimal places\n",
    "ramen_clean['Stars'] = ramen_clean['Stars'].astype(float)\n",
    "ramen_clean['Stars'].round(2)"
   ]
  },
  {
   "cell_type": "markdown",
   "metadata": {},
   "source": [
    "#### Question 1: What is the distribution of Ramen Brands? Limit to the top 15"
   ]
  },
  {
   "cell_type": "code",
   "execution_count": 153,
   "metadata": {},
   "outputs": [
    {
     "data": {
      "image/png": "[encoded data removed]",
      "text/plain": [
       "<Figure size 1008x576 with 1 Axes>"
      ]
     },
     "metadata": {},
     "output_type": "display_data"
    }
   ],
   "source": [
    "fig, ax = plt.subplots(figsize=(14, 8))\n",
    "sns.barplot(x=ramen_clean['Brand'].value_counts()[:15].index, y=ramen_clean['Brand'].value_counts()[:15])\n",
    "plt.tight_layout()\n",
    "ax.set_title('Top 15 Brands by Frequency', fontdict={'weight':'bold', 'size':16})\n",
    "ax.set_xlabel('Brands', fontdict={'weight':'bold', 'size':16})\n",
    "ax.set_ylabel('Count', fontdict={'weight':'bold', 'size':16})\n",
    "ax.tick_params(axis='x', rotation=45);"
   ]
  },
  {
   "cell_type": "markdown",
   "metadata": {},
   "source": [
    "#### Question 2: Are there any ramens with a 5 star rating?"
   ]
  },
  {
   "cell_type": "code",
   "execution_count": 154,
   "metadata": {},
   "outputs": [
    {
     "name": "stdout",
     "output_type": "stream",
     "text": [
      "(386, 7)\n"
     ]
    }
   ],
   "source": [
    "FIVE_STARS = (ramen_clean['Stars'] == 5.0)\n",
    "five_star_ramen = ramen_clean[FIVE_STARS]\n",
    "print(five_star_ramen.shape)"
   ]
  },
  {
   "cell_type": "markdown",
   "metadata": {},
   "source": [
    "#### Question 2.5: What is the distribution of countries that these 5 star ramens come from?"
   ]
  },
  {
   "cell_type": "code",
   "execution_count": 155,
   "metadata": {},
   "outputs": [
    {
     "data": {
      "text/plain": [
       "Japan          0.191710\n",
       "Malaysia       0.139896\n",
       "Taiwan         0.124352\n",
       "South Korea    0.113990\n",
       "Singapore      0.093264\n",
       "USA            0.080311\n",
       "Indonesia      0.059585\n",
       "Hong Kong      0.056995\n",
       "Thailand       0.049223\n",
       "China          0.031088\n",
       "Myanmar        0.010363\n",
       "UK             0.010363\n",
       "India          0.005181\n",
       "Canada         0.005181\n",
       "Cambodia       0.005181\n",
       "Philippines    0.005181\n",
       "Brazil         0.002591\n",
       "Mexico         0.002591\n",
       "Vietnam        0.002591\n",
       "Sarawak        0.002591\n",
       "Nepal          0.002591\n",
       "Germany        0.002591\n",
       "Australia      0.002591\n",
       "Name: Country, dtype: float64"
      ]
     },
     "execution_count": 155,
     "metadata": {},
     "output_type": "execute_result"
    }
   ],
   "source": [
    "five_star_ramen['Country'].value_counts(normalize=True)"
   ]
  },
  {
   "cell_type": "markdown",
   "metadata": {},
   "source": [
    "#### Question 3: What are the average ratings of the different styles of ramen?"
   ]
  },
  {
   "cell_type": "code",
   "execution_count": 156,
   "metadata": {},
   "outputs": [
    {
     "data": {
      "image/png": "[encoded data removed]",
      "text/plain": [
       "<Figure size 720x360 with 1 Axes>"
      ]
     },
     "metadata": {},
     "output_type": "display_data"
    }
   ],
   "source": [
    "fig, ax = plt.subplots(figsize=(10, 5))\n",
    "sns.barplot(x=ramen_clean.groupby('Style')['Stars'].mean().index, y=ramen_clean.groupby('Style')['Stars'].mean())\n",
    "ax.set_title('Average Stars by Ramen Style', fontdict={'weight':'bold', 'size':16})\n",
    "ax.set_xlabel('Styles', fontdict={'weight':'bold', 'size':16})\n",
    "ax.set_ylabel('Average Star Rating', fontdict={'weight':'bold', 'size':16});"
   ]
  },
  {
   "cell_type": "markdown",
   "metadata": {},
   "source": [
    "Bar has a perfect 5 star rating, and box is relatively high as well"
   ]
  },
  {
   "cell_type": "code",
   "execution_count": 157,
   "metadata": {},
   "outputs": [
    {
     "data": {
      "text/plain": [
       "Pack    1528\n",
       "Bowl     481\n",
       "Cup      450\n",
       "Tray     108\n",
       "Box        6\n",
       "Can        1\n",
       "Bar        1\n",
       "Name: Style, dtype: int64"
      ]
     },
     "execution_count": 157,
     "metadata": {},
     "output_type": "execute_result"
    }
   ],
   "source": [
    "ramen_clean['Style'].value_counts()"
   ]
  },
  {
   "cell_type": "code",
   "execution_count": 158,
   "metadata": {},
   "outputs": [
    {
     "data": {
      "image/png": "[encoded data removed]",
      "text/plain": [
       "<Figure size 720x576 with 1 Axes>"
      ]
     },
     "metadata": {},
     "output_type": "display_data"
    }
   ],
   "source": [
    "fig, ax = plt.subplots(figsize=(10, 8))\n",
    "sns.histplot(data=ramen_clean, x='Style')\n",
    "ax.set_title('Distribution of Different Ramen Styles', fontdict={'weight':'bold', 'size':16})\n",
    "ax.set_xlabel('Styles', fontdict={'weight':'bold', 'size':16})\n",
    "ax.set_ylabel('Count', fontdict={'weight':'bold', 'size':16});"
   ]
  },
  {
   "cell_type": "markdown",
   "metadata": {},
   "source": [
    "The reason why bar style and box style have such high average scores is because they only have a few observations.\n",
    "\n",
    "Now, we'll take a look at the Top Ten column."
   ]
  },
  {
   "cell_type": "code",
   "execution_count": 159,
   "metadata": {},
   "outputs": [
    {
     "name": "stdout",
     "output_type": "stream",
     "text": [
      "Review #    0\n",
      "Brand       0\n",
      "Variety     0\n",
      "Style       0\n",
      "Country     0\n",
      "Stars       0\n",
      "Top Ten     0\n",
      "dtype: int64\n",
      "['N/A' '2016 #10' '2016 #1' '2016 #8' '2016 #5' '2016 #9' '2016 #7'\n",
      " '2015 #10' '2015 #7' '2015 #4' '2015 #9' '2015 #6' '2015 #1' '2013 #10'\n",
      " '2015 #8' '2014 #7' '2014 #4' '2014 #9' '2014 #10' '2014 #8' '2014 #5'\n",
      " '2014 #6' '2014 #1' '2013 #1' '2013 #2' '2013 #4' '2013 #9' '2013 #3'\n",
      " '2012 #10' '2012 #7' '2012 #5' '2012 #3' '2012 #6' '2012 #9' '2012 #1'\n",
      " '2012 #2' '2013 #6' '2012 #4']\n"
     ]
    }
   ],
   "source": [
    "# First fill the missing values with a not-applicable string\n",
    "ramen_clean['Top Ten'].fillna('N/A', inplace=True)\n",
    "\n",
    "# There are also some newline characters in there\n",
    "ramen_clean['Top Ten'] = ramen_clean['Top Ten'].str.replace('\\n', 'N/A')\n",
    "\n",
    "# Time to see if the null values are gone\n",
    "print(ramen_clean.isna().sum())\n",
    "print(ramen_clean['Top Ten'].unique())"
   ]
  },
  {
   "cell_type": "code",
   "execution_count": 160,
   "metadata": {},
   "outputs": [
    {
     "data": {
      "text/html": [
       "<div>\n",
       "<style scoped>\n",
       "    .dataframe tbody tr th:only-of-type {\n",
       "        vertical-align: middle;\n",
       "    }\n",
       "\n",
       "    .dataframe tbody tr th {\n",
       "        vertical-align: top;\n",
       "    }\n",
       "\n",
       "    .dataframe thead th {\n",
       "        text-align: right;\n",
       "    }\n",
       "</style>\n",
       "<table border=\"1\" class=\"dataframe\">\n",
       "  <thead>\n",
       "    <tr style=\"text-align: right;\">\n",
       "      <th></th>\n",
       "      <th>Review #</th>\n",
       "      <th>Brand</th>\n",
       "      <th>Variety</th>\n",
       "      <th>Style</th>\n",
       "      <th>Country</th>\n",
       "      <th>Stars</th>\n",
       "      <th>Top Ten</th>\n",
       "    </tr>\n",
       "  </thead>\n",
       "  <tbody>\n",
       "    <tr>\n",
       "      <th>616</th>\n",
       "      <td>1964</td>\n",
       "      <td>MAMA</td>\n",
       "      <td>Instant Noodles Coconut Milk Flavour</td>\n",
       "      <td>Pack</td>\n",
       "      <td>Myanmar</td>\n",
       "      <td>5.00</td>\n",
       "      <td>2016 #10</td>\n",
       "    </tr>\n",
       "    <tr>\n",
       "      <th>633</th>\n",
       "      <td>1947</td>\n",
       "      <td>Prima Taste</td>\n",
       "      <td>Singapore Laksa Wholegrain La Mian</td>\n",
       "      <td>Pack</td>\n",
       "      <td>Singapore</td>\n",
       "      <td>5.00</td>\n",
       "      <td>2016 #1</td>\n",
       "    </tr>\n",
       "    <tr>\n",
       "      <th>655</th>\n",
       "      <td>1925</td>\n",
       "      <td>Prima</td>\n",
       "      <td>Juzz's Mee Creamy Chicken Flavour</td>\n",
       "      <td>Pack</td>\n",
       "      <td>Singapore</td>\n",
       "      <td>5.00</td>\n",
       "      <td>2016 #8</td>\n",
       "    </tr>\n",
       "    <tr>\n",
       "      <th>673</th>\n",
       "      <td>1907</td>\n",
       "      <td>Prima Taste</td>\n",
       "      <td>Singapore Curry Wholegrain La Mian</td>\n",
       "      <td>Pack</td>\n",
       "      <td>Singapore</td>\n",
       "      <td>5.00</td>\n",
       "      <td>2016 #5</td>\n",
       "    </tr>\n",
       "    <tr>\n",
       "      <th>752</th>\n",
       "      <td>1828</td>\n",
       "      <td>Tseng Noodles</td>\n",
       "      <td>Scallion With Sichuan Pepper  Flavor</td>\n",
       "      <td>Pack</td>\n",
       "      <td>Taiwan</td>\n",
       "      <td>5.00</td>\n",
       "      <td>2016 #9</td>\n",
       "    </tr>\n",
       "    <tr>\n",
       "      <th>891</th>\n",
       "      <td>1689</td>\n",
       "      <td>Wugudaochang</td>\n",
       "      <td>Tomato Beef Brisket Flavor Purple Potato Noodle</td>\n",
       "      <td>Pack</td>\n",
       "      <td>China</td>\n",
       "      <td>5.00</td>\n",
       "      <td>2016 #7</td>\n",
       "    </tr>\n",
       "    <tr>\n",
       "      <th>942</th>\n",
       "      <td>1638</td>\n",
       "      <td>A-Sha Dry Noodle</td>\n",
       "      <td>Veggie Noodle Tomato Noodle With Vine Ripened ...</td>\n",
       "      <td>Pack</td>\n",
       "      <td>Taiwan</td>\n",
       "      <td>5.00</td>\n",
       "      <td>2015 #10</td>\n",
       "    </tr>\n",
       "    <tr>\n",
       "      <th>963</th>\n",
       "      <td>1617</td>\n",
       "      <td>MyKuali</td>\n",
       "      <td>Penang Hokkien Prawn Noodle (New Improved Taste)</td>\n",
       "      <td>Pack</td>\n",
       "      <td>Malaysia</td>\n",
       "      <td>5.00</td>\n",
       "      <td>2015 #7</td>\n",
       "    </tr>\n",
       "    <tr>\n",
       "      <th>995</th>\n",
       "      <td>1585</td>\n",
       "      <td>CarJEN</td>\n",
       "      <td>Nyonya Curry Laksa</td>\n",
       "      <td>Pack</td>\n",
       "      <td>Malaysia</td>\n",
       "      <td>5.00</td>\n",
       "      <td>2015 #4</td>\n",
       "    </tr>\n",
       "    <tr>\n",
       "      <th>1059</th>\n",
       "      <td>1521</td>\n",
       "      <td>Maruchan</td>\n",
       "      <td>Gotsumori Sauce Yakisoba</td>\n",
       "      <td>Tray</td>\n",
       "      <td>Japan</td>\n",
       "      <td>5.00</td>\n",
       "      <td>2015 #9</td>\n",
       "    </tr>\n",
       "    <tr>\n",
       "      <th>1072</th>\n",
       "      <td>1508</td>\n",
       "      <td>Mamee</td>\n",
       "      <td>Chef Gold Recipe Mi Kari Seribu Rasa</td>\n",
       "      <td>Pack</td>\n",
       "      <td>Malaysia</td>\n",
       "      <td>5.00</td>\n",
       "      <td>2015 #6</td>\n",
       "    </tr>\n",
       "    <tr>\n",
       "      <th>1080</th>\n",
       "      <td>1500</td>\n",
       "      <td>MyKuali</td>\n",
       "      <td>Penang Red Tom Yum Goong Noodle</td>\n",
       "      <td>Pack</td>\n",
       "      <td>Malaysia</td>\n",
       "      <td>5.00</td>\n",
       "      <td>2015 #1</td>\n",
       "    </tr>\n",
       "    <tr>\n",
       "      <th>1109</th>\n",
       "      <td>1471</td>\n",
       "      <td>Mama</td>\n",
       "      <td>Instant Noodles Shrimp Creamy Tom Yum Flavour ...</td>\n",
       "      <td>Pack</td>\n",
       "      <td>Thailand</td>\n",
       "      <td>5.00</td>\n",
       "      <td>2013 #10</td>\n",
       "    </tr>\n",
       "    <tr>\n",
       "      <th>1114</th>\n",
       "      <td>1466</td>\n",
       "      <td>Mama</td>\n",
       "      <td>Oriental Style Instant Noodles Green Curry Fla...</td>\n",
       "      <td>Pack</td>\n",
       "      <td>Thailand</td>\n",
       "      <td>5.00</td>\n",
       "      <td>2015 #8</td>\n",
       "    </tr>\n",
       "    <tr>\n",
       "      <th>1230</th>\n",
       "      <td>1350</td>\n",
       "      <td>Mamee</td>\n",
       "      <td>Chef Curry Laksa Flavour</td>\n",
       "      <td>Pack</td>\n",
       "      <td>Malaysia</td>\n",
       "      <td>5.00</td>\n",
       "      <td>2014 #7</td>\n",
       "    </tr>\n",
       "    <tr>\n",
       "      <th>1250</th>\n",
       "      <td>1330</td>\n",
       "      <td>Sapporo Ichiban</td>\n",
       "      <td>Otafuku Okonomi Sauce Yakisoba</td>\n",
       "      <td>Tray</td>\n",
       "      <td>Japan</td>\n",
       "      <td>5.00</td>\n",
       "      <td>2014 #4</td>\n",
       "    </tr>\n",
       "    <tr>\n",
       "      <th>1272</th>\n",
       "      <td>1308</td>\n",
       "      <td>Nongshim</td>\n",
       "      <td>Soon Veggie Noodle Soup</td>\n",
       "      <td>Pack</td>\n",
       "      <td>South Korea</td>\n",
       "      <td>5.00</td>\n",
       "      <td>2014 #9</td>\n",
       "    </tr>\n",
       "    <tr>\n",
       "      <th>1278</th>\n",
       "      <td>1302</td>\n",
       "      <td>Mama</td>\n",
       "      <td>Instant Noodles Yentafo Tom Yum Mohfai Flavour</td>\n",
       "      <td>Pack</td>\n",
       "      <td>Thailand</td>\n",
       "      <td>5.00</td>\n",
       "      <td>2014 #10</td>\n",
       "    </tr>\n",
       "    <tr>\n",
       "      <th>1309</th>\n",
       "      <td>1271</td>\n",
       "      <td>Prima Taste</td>\n",
       "      <td>Singapore Chilli Crab La Mian</td>\n",
       "      <td>Pack</td>\n",
       "      <td>Singapore</td>\n",
       "      <td>5.00</td>\n",
       "      <td>2014 #8</td>\n",
       "    </tr>\n",
       "    <tr>\n",
       "      <th>1382</th>\n",
       "      <td>1198</td>\n",
       "      <td>Samyang Foods</td>\n",
       "      <td>Maesaengyitangmyun Baked Noodle</td>\n",
       "      <td>Pack</td>\n",
       "      <td>South Korea</td>\n",
       "      <td>5.00</td>\n",
       "      <td>2014 #5</td>\n",
       "    </tr>\n",
       "    <tr>\n",
       "      <th>1397</th>\n",
       "      <td>1183</td>\n",
       "      <td>Paldo</td>\n",
       "      <td>Cheese Noodle</td>\n",
       "      <td>Pack</td>\n",
       "      <td>South Korea</td>\n",
       "      <td>5.00</td>\n",
       "      <td>2014 #6</td>\n",
       "    </tr>\n",
       "    <tr>\n",
       "      <th>1493</th>\n",
       "      <td>1087</td>\n",
       "      <td>MyKuali</td>\n",
       "      <td>Penang White Curry Noodle</td>\n",
       "      <td>Pack</td>\n",
       "      <td>Malaysia</td>\n",
       "      <td>5.00</td>\n",
       "      <td>2014 #1</td>\n",
       "    </tr>\n",
       "    <tr>\n",
       "      <th>1588</th>\n",
       "      <td>992</td>\n",
       "      <td>Prima Taste</td>\n",
       "      <td>Singapore Laksa La Mian</td>\n",
       "      <td>Pack</td>\n",
       "      <td>Singapore</td>\n",
       "      <td>5.00</td>\n",
       "      <td>2013 #1</td>\n",
       "    </tr>\n",
       "    <tr>\n",
       "      <th>1589</th>\n",
       "      <td>991</td>\n",
       "      <td>Prima Taste</td>\n",
       "      <td>Singapore Curry La Mian</td>\n",
       "      <td>Pack</td>\n",
       "      <td>Singapore</td>\n",
       "      <td>5.00</td>\n",
       "      <td>2013 #2</td>\n",
       "    </tr>\n",
       "    <tr>\n",
       "      <th>1646</th>\n",
       "      <td>934</td>\n",
       "      <td>Nongshim</td>\n",
       "      <td>Jinjja Jinjja Flamin' Hot &amp; Nutty</td>\n",
       "      <td>Pack</td>\n",
       "      <td>USA</td>\n",
       "      <td>5.00</td>\n",
       "      <td>2013 #4</td>\n",
       "    </tr>\n",
       "    <tr>\n",
       "      <th>1757</th>\n",
       "      <td>823</td>\n",
       "      <td>Paldo</td>\n",
       "      <td>Kokomen Spicy Chicken</td>\n",
       "      <td>Pack</td>\n",
       "      <td>South Korea</td>\n",
       "      <td>5.00</td>\n",
       "      <td>2013 #9</td>\n",
       "    </tr>\n",
       "    <tr>\n",
       "      <th>1865</th>\n",
       "      <td>715</td>\n",
       "      <td>Indomie</td>\n",
       "      <td>Mi Goreng Rendang (Import)</td>\n",
       "      <td>Pack</td>\n",
       "      <td>Indonesia</td>\n",
       "      <td>5.00</td>\n",
       "      <td>2013 #3</td>\n",
       "    </tr>\n",
       "    <tr>\n",
       "      <th>1972</th>\n",
       "      <td>608</td>\n",
       "      <td>Koka</td>\n",
       "      <td>Spicy Black Pepper</td>\n",
       "      <td>Pack</td>\n",
       "      <td>Singapore</td>\n",
       "      <td>5.00</td>\n",
       "      <td>2012 #10</td>\n",
       "    </tr>\n",
       "    <tr>\n",
       "      <th>2002</th>\n",
       "      <td>578</td>\n",
       "      <td>Nongshim</td>\n",
       "      <td>Shin Ramyun Black</td>\n",
       "      <td>Pack</td>\n",
       "      <td>South Korea</td>\n",
       "      <td>4.75</td>\n",
       "      <td>2012 #7</td>\n",
       "    </tr>\n",
       "    <tr>\n",
       "      <th>2146</th>\n",
       "      <td>434</td>\n",
       "      <td>Mi Sedaap</td>\n",
       "      <td>Kari Spesial</td>\n",
       "      <td>Pack</td>\n",
       "      <td>Indonesia</td>\n",
       "      <td>4.50</td>\n",
       "      <td>2012 #5</td>\n",
       "    </tr>\n",
       "    <tr>\n",
       "      <th>2188</th>\n",
       "      <td>392</td>\n",
       "      <td>Nissin</td>\n",
       "      <td>Yakisoba Noodles Karashi</td>\n",
       "      <td>Tray</td>\n",
       "      <td>Japan</td>\n",
       "      <td>5.00</td>\n",
       "      <td>2012 #3</td>\n",
       "    </tr>\n",
       "    <tr>\n",
       "      <th>2189</th>\n",
       "      <td>391</td>\n",
       "      <td>Myojo</td>\n",
       "      <td>Hyoubanya No Chukasoba Oriental</td>\n",
       "      <td>Pack</td>\n",
       "      <td>Japan</td>\n",
       "      <td>4.25</td>\n",
       "      <td>2012 #6</td>\n",
       "    </tr>\n",
       "    <tr>\n",
       "      <th>2295</th>\n",
       "      <td>285</td>\n",
       "      <td>Doll</td>\n",
       "      <td>Artificial Chicken</td>\n",
       "      <td>Pack</td>\n",
       "      <td>Hong Kong</td>\n",
       "      <td>4.50</td>\n",
       "      <td>2012 #9</td>\n",
       "    </tr>\n",
       "    <tr>\n",
       "      <th>2475</th>\n",
       "      <td>105</td>\n",
       "      <td>Indomie</td>\n",
       "      <td>Special Fried Curly Noodle</td>\n",
       "      <td>Pack</td>\n",
       "      <td>Indonesia</td>\n",
       "      <td>5.00</td>\n",
       "      <td>2012 #1</td>\n",
       "    </tr>\n",
       "    <tr>\n",
       "      <th>2533</th>\n",
       "      <td>47</td>\n",
       "      <td>Indomie</td>\n",
       "      <td>Mi Goreng Jumbo Barbecue Chicken</td>\n",
       "      <td>Pack</td>\n",
       "      <td>Indonesia</td>\n",
       "      <td>5.00</td>\n",
       "      <td>2012 #2</td>\n",
       "    </tr>\n",
       "    <tr>\n",
       "      <th>2549</th>\n",
       "      <td>31</td>\n",
       "      <td>Myojo</td>\n",
       "      <td>Ippeichan Yakisoba</td>\n",
       "      <td>Tray</td>\n",
       "      <td>Japan</td>\n",
       "      <td>4.00</td>\n",
       "      <td>2013 #6</td>\n",
       "    </tr>\n",
       "    <tr>\n",
       "      <th>2567</th>\n",
       "      <td>13</td>\n",
       "      <td>Sapporo Ichiban</td>\n",
       "      <td>Chow Mein</td>\n",
       "      <td>Pack</td>\n",
       "      <td>Japan</td>\n",
       "      <td>5.00</td>\n",
       "      <td>2012 #4</td>\n",
       "    </tr>\n",
       "  </tbody>\n",
       "</table>\n",
       "</div>"
      ],
      "text/plain": [
       "      Review #             Brand  \\\n",
       "616       1964              MAMA   \n",
       "633       1947       Prima Taste   \n",
       "655       1925             Prima   \n",
       "673       1907       Prima Taste   \n",
       "752       1828     Tseng Noodles   \n",
       "891       1689      Wugudaochang   \n",
       "942       1638  A-Sha Dry Noodle   \n",
       "963       1617           MyKuali   \n",
       "995       1585            CarJEN   \n",
       "1059      1521          Maruchan   \n",
       "1072      1508             Mamee   \n",
       "1080      1500           MyKuali   \n",
       "1109      1471              Mama   \n",
       "1114      1466              Mama   \n",
       "1230      1350             Mamee   \n",
       "1250      1330   Sapporo Ichiban   \n",
       "1272      1308          Nongshim   \n",
       "1278      1302              Mama   \n",
       "1309      1271       Prima Taste   \n",
       "1382      1198     Samyang Foods   \n",
       "1397      1183             Paldo   \n",
       "1493      1087           MyKuali   \n",
       "1588       992       Prima Taste   \n",
       "1589       991       Prima Taste   \n",
       "1646       934          Nongshim   \n",
       "1757       823             Paldo   \n",
       "1865       715           Indomie   \n",
       "1972       608              Koka   \n",
       "2002       578          Nongshim   \n",
       "2146       434         Mi Sedaap   \n",
       "2188       392            Nissin   \n",
       "2189       391             Myojo   \n",
       "2295       285              Doll   \n",
       "2475       105           Indomie   \n",
       "2533        47           Indomie   \n",
       "2549        31             Myojo   \n",
       "2567        13   Sapporo Ichiban   \n",
       "\n",
       "                                                Variety Style      Country  \\\n",
       "616                Instant Noodles Coconut Milk Flavour  Pack      Myanmar   \n",
       "633                  Singapore Laksa Wholegrain La Mian  Pack    Singapore   \n",
       "655                   Juzz's Mee Creamy Chicken Flavour  Pack    Singapore   \n",
       "673                  Singapore Curry Wholegrain La Mian  Pack    Singapore   \n",
       "752                Scallion With Sichuan Pepper  Flavor  Pack       Taiwan   \n",
       "891     Tomato Beef Brisket Flavor Purple Potato Noodle  Pack        China   \n",
       "942   Veggie Noodle Tomato Noodle With Vine Ripened ...  Pack       Taiwan   \n",
       "963    Penang Hokkien Prawn Noodle (New Improved Taste)  Pack     Malaysia   \n",
       "995                                  Nyonya Curry Laksa  Pack     Malaysia   \n",
       "1059                           Gotsumori Sauce Yakisoba  Tray        Japan   \n",
       "1072               Chef Gold Recipe Mi Kari Seribu Rasa  Pack     Malaysia   \n",
       "1080                    Penang Red Tom Yum Goong Noodle  Pack     Malaysia   \n",
       "1109  Instant Noodles Shrimp Creamy Tom Yum Flavour ...  Pack     Thailand   \n",
       "1114  Oriental Style Instant Noodles Green Curry Fla...  Pack     Thailand   \n",
       "1230                           Chef Curry Laksa Flavour  Pack     Malaysia   \n",
       "1250                     Otafuku Okonomi Sauce Yakisoba  Tray        Japan   \n",
       "1272                            Soon Veggie Noodle Soup  Pack  South Korea   \n",
       "1278     Instant Noodles Yentafo Tom Yum Mohfai Flavour  Pack     Thailand   \n",
       "1309                      Singapore Chilli Crab La Mian  Pack    Singapore   \n",
       "1382                    Maesaengyitangmyun Baked Noodle  Pack  South Korea   \n",
       "1397                                      Cheese Noodle  Pack  South Korea   \n",
       "1493                          Penang White Curry Noodle  Pack     Malaysia   \n",
       "1588                            Singapore Laksa La Mian  Pack    Singapore   \n",
       "1589                            Singapore Curry La Mian  Pack    Singapore   \n",
       "1646                  Jinjja Jinjja Flamin' Hot & Nutty  Pack          USA   \n",
       "1757                              Kokomen Spicy Chicken  Pack  South Korea   \n",
       "1865                         Mi Goreng Rendang (Import)  Pack    Indonesia   \n",
       "1972                                 Spicy Black Pepper  Pack    Singapore   \n",
       "2002                                  Shin Ramyun Black  Pack  South Korea   \n",
       "2146                                       Kari Spesial  Pack    Indonesia   \n",
       "2188                           Yakisoba Noodles Karashi  Tray        Japan   \n",
       "2189                    Hyoubanya No Chukasoba Oriental  Pack        Japan   \n",
       "2295                                 Artificial Chicken  Pack    Hong Kong   \n",
       "2475                         Special Fried Curly Noodle  Pack    Indonesia   \n",
       "2533                   Mi Goreng Jumbo Barbecue Chicken  Pack    Indonesia   \n",
       "2549                                 Ippeichan Yakisoba  Tray        Japan   \n",
       "2567                                          Chow Mein  Pack        Japan   \n",
       "\n",
       "      Stars   Top Ten  \n",
       "616    5.00  2016 #10  \n",
       "633    5.00   2016 #1  \n",
       "655    5.00   2016 #8  \n",
       "673    5.00   2016 #5  \n",
       "752    5.00   2016 #9  \n",
       "891    5.00   2016 #7  \n",
       "942    5.00  2015 #10  \n",
       "963    5.00   2015 #7  \n",
       "995    5.00   2015 #4  \n",
       "1059   5.00   2015 #9  \n",
       "1072   5.00   2015 #6  \n",
       "1080   5.00   2015 #1  \n",
       "1109   5.00  2013 #10  \n",
       "1114   5.00   2015 #8  \n",
       "1230   5.00   2014 #7  \n",
       "1250   5.00   2014 #4  \n",
       "1272   5.00   2014 #9  \n",
       "1278   5.00  2014 #10  \n",
       "1309   5.00   2014 #8  \n",
       "1382   5.00   2014 #5  \n",
       "1397   5.00   2014 #6  \n",
       "1493   5.00   2014 #1  \n",
       "1588   5.00   2013 #1  \n",
       "1589   5.00   2013 #2  \n",
       "1646   5.00   2013 #4  \n",
       "1757   5.00   2013 #9  \n",
       "1865   5.00   2013 #3  \n",
       "1972   5.00  2012 #10  \n",
       "2002   4.75   2012 #7  \n",
       "2146   4.50   2012 #5  \n",
       "2188   5.00   2012 #3  \n",
       "2189   4.25   2012 #6  \n",
       "2295   4.50   2012 #9  \n",
       "2475   5.00   2012 #1  \n",
       "2533   5.00   2012 #2  \n",
       "2549   4.00   2013 #6  \n",
       "2567   5.00   2012 #4  "
      ]
     },
     "execution_count": 160,
     "metadata": {},
     "output_type": "execute_result"
    }
   ],
   "source": [
    "# Let's look at all the ramen where the Top Ten column is applicable\n",
    "TOP_TEN = (ramen_clean['Top Ten'] != 'N/A')\n",
    "top_ten_ramen = ramen_clean[TOP_TEN]\n",
    "top_ten_ramen"
   ]
  },
  {
   "cell_type": "markdown",
   "metadata": {},
   "source": [
    "#### Question 4: Which ramen were rated as #1 in the Top Ten category of each year?"
   ]
  },
  {
   "cell_type": "code",
   "execution_count": 161,
   "metadata": {},
   "outputs": [
    {
     "data": {
      "text/html": [
       "<div>\n",
       "<style scoped>\n",
       "    .dataframe tbody tr th:only-of-type {\n",
       "        vertical-align: middle;\n",
       "    }\n",
       "\n",
       "    .dataframe tbody tr th {\n",
       "        vertical-align: top;\n",
       "    }\n",
       "\n",
       "    .dataframe thead th {\n",
       "        text-align: right;\n",
       "    }\n",
       "</style>\n",
       "<table border=\"1\" class=\"dataframe\">\n",
       "  <thead>\n",
       "    <tr style=\"text-align: right;\">\n",
       "      <th></th>\n",
       "      <th>Review #</th>\n",
       "      <th>Brand</th>\n",
       "      <th>Variety</th>\n",
       "      <th>Style</th>\n",
       "      <th>Country</th>\n",
       "      <th>Stars</th>\n",
       "      <th>Top Ten</th>\n",
       "    </tr>\n",
       "  </thead>\n",
       "  <tbody>\n",
       "    <tr>\n",
       "      <th>633</th>\n",
       "      <td>1947</td>\n",
       "      <td>Prima Taste</td>\n",
       "      <td>Singapore Laksa Wholegrain La Mian</td>\n",
       "      <td>Pack</td>\n",
       "      <td>Singapore</td>\n",
       "      <td>5.0</td>\n",
       "      <td>2016 #1</td>\n",
       "    </tr>\n",
       "    <tr>\n",
       "      <th>1080</th>\n",
       "      <td>1500</td>\n",
       "      <td>MyKuali</td>\n",
       "      <td>Penang Red Tom Yum Goong Noodle</td>\n",
       "      <td>Pack</td>\n",
       "      <td>Malaysia</td>\n",
       "      <td>5.0</td>\n",
       "      <td>2015 #1</td>\n",
       "    </tr>\n",
       "    <tr>\n",
       "      <th>1493</th>\n",
       "      <td>1087</td>\n",
       "      <td>MyKuali</td>\n",
       "      <td>Penang White Curry Noodle</td>\n",
       "      <td>Pack</td>\n",
       "      <td>Malaysia</td>\n",
       "      <td>5.0</td>\n",
       "      <td>2014 #1</td>\n",
       "    </tr>\n",
       "    <tr>\n",
       "      <th>1588</th>\n",
       "      <td>992</td>\n",
       "      <td>Prima Taste</td>\n",
       "      <td>Singapore Laksa La Mian</td>\n",
       "      <td>Pack</td>\n",
       "      <td>Singapore</td>\n",
       "      <td>5.0</td>\n",
       "      <td>2013 #1</td>\n",
       "    </tr>\n",
       "    <tr>\n",
       "      <th>2475</th>\n",
       "      <td>105</td>\n",
       "      <td>Indomie</td>\n",
       "      <td>Special Fried Curly Noodle</td>\n",
       "      <td>Pack</td>\n",
       "      <td>Indonesia</td>\n",
       "      <td>5.0</td>\n",
       "      <td>2012 #1</td>\n",
       "    </tr>\n",
       "  </tbody>\n",
       "</table>\n",
       "</div>"
      ],
      "text/plain": [
       "      Review #        Brand                             Variety Style  \\\n",
       "633       1947  Prima Taste  Singapore Laksa Wholegrain La Mian  Pack   \n",
       "1080      1500      MyKuali     Penang Red Tom Yum Goong Noodle  Pack   \n",
       "1493      1087      MyKuali           Penang White Curry Noodle  Pack   \n",
       "1588       992  Prima Taste             Singapore Laksa La Mian  Pack   \n",
       "2475       105      Indomie          Special Fried Curly Noodle  Pack   \n",
       "\n",
       "        Country  Stars  Top Ten  \n",
       "633   Singapore    5.0  2016 #1  \n",
       "1080   Malaysia    5.0  2015 #1  \n",
       "1493   Malaysia    5.0  2014 #1  \n",
       "1588  Singapore    5.0  2013 #1  \n",
       "2475  Indonesia    5.0  2012 #1  "
      ]
     },
     "execution_count": 161,
     "metadata": {},
     "output_type": "execute_result"
    }
   ],
   "source": [
    "NUMBER_ONES = (top_ten_ramen['Top Ten'].str.contains('1$'))\n",
    "top_ten_ramen[NUMBER_ONES]"
   ]
  }
 ],
 "metadata": {
  "kernelspec": {
   "display_name": "learn-env",
   "language": "python",
   "name": "python3"
  },
  "language_info": {
   "codemirror_mode": {
    "name": "ipython",
    "version": 3
   },
   "file_extension": ".py",
   "mimetype": "text/x-python",
   "name": "python",
   "nbconvert_exporter": "python",
   "pygments_lexer": "ipython3",
   "version": "3.8.5"
  }
 },
 "nbformat": 4,
 "nbformat_minor": 4
}
